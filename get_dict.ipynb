{
 "cells": [
  {
   "cell_type": "markdown",
   "metadata": {},
   "source": [
    "# Make files for acoustic model from dictionary"
   ]
  },
  {
   "cell_type": "code",
   "execution_count": 39,
   "metadata": {
    "collapsed": true
   },
   "outputs": [],
   "source": [
    "# -*- coding: utf-8 -*-\n",
    "\n",
    "import codecs\n",
    "import os\n",
    "import re"
   ]
  },
  {
   "cell_type": "code",
   "execution_count": 40,
   "metadata": {
    "collapsed": true
   },
   "outputs": [],
   "source": [
    "def get_transcription(slovo):\n",
    "    slovo = re.sub('-', ' ', slovo)\n",
    "    slovo = re.sub('\\(.*wav', '', slovo)\n",
    "    slovo = re.sub('L', 'lʼ', slovo)\n",
    "    slovo = re.sub('E', 'ə', slovo)\n",
    "    slovo = re.sub('B', 'b', slovo)\n",
    "    slovo = re.sub('C', 'čʼ', slovo)\n",
    "    slovo = re.sub('D', 'dʼ', slovo)\n",
    "    slovo = re.sub('S_', 'šʼ', slovo)\n",
    "    slovo = re.sub('S', 'š', slovo)\n",
    "    slovo = re.sub('N', 'nʼ', slovo)\n",
    "    slovo = re.sub('T', 'tʼ', slovo)\n",
    "    slovo = re.sub('H', 'ǯʼ', slovo)\n",
    "    slovo = re.sub('Z_', 'žʼ', slovo)\n",
    "    slovo = re.sub('Z', 'ž', slovo)\n",
    "    slovo = re.sub('J', 'ǯʼ', slovo)\n",
    "    slovo = re.sub('X', 'ɤ', slovo)\n",
    "    slovo = re.sub('Y', 'ɨ', slovo)\n",
    "    slovo = re.sub('_', '', slovo)\n",
    "    slovo = re.sub('\\d+?', '', slovo)\n",
    "    slovo = re.sub(' +?$', '', slovo)\n",
    "    transcription = slovo + ' ' + slovo + ' ' + slovo\n",
    "    return transcription"
   ]
  },
  {
   "cell_type": "code",
   "execution_count": 41,
   "metadata": {
    "scrolled": true
   },
   "outputs": [
    {
     "name": "stdout",
     "output_type": "stream",
     "text": [
      "NA\n",
      "AS\n",
      "AI\n",
      "LV\n",
      "SN\n",
      "EK\n",
      "AP\n",
      "VM\n",
      "AL\n"
     ]
    }
   ],
   "source": [
    "w_text = codecs.open('text_ipynb', 'a', 'utf-8-sig')\n",
    "w_wav = codecs.open('wav_ipynb.scp', 'a', 'utf-8-sig')\n",
    "# w_segm = codecs.open('segments', 'a', 'utf-8-sig')\n",
    "w_utt = codecs.open('utt2spk_ipynb', 'a', 'utf-8-sig')\n",
    "\n",
    "\n",
    "file_names = os.listdir('.')\n",
    "i = 4150\n",
    "for name in file_names:\n",
    "    if 'ipynb' not in name:\n",
    "        print(name)\n",
    "        path = './' + name + '/'\n",
    "        slova_names = os.listdir(path)\n",
    "        for slovo in slova_names:\n",
    "            i += 1\n",
    "            recording_id = re.sub('.wav', '', slovo)\n",
    "            recording_id = re.sub('-', '', recording_id)\n",
    "            file_path = os.path.abspath(slovo)\n",
    "            w_wav.write(recording_id + ' ' + file_path + '\\n')\n",
    "            w_text.write(name + '-' + str(i) + ' ' + get_transcription(slovo) + '\\n')\n",
    "#             w_segm.write(str(i) + ' ' + recording_id + ' ' + str(round(float(xmin), 2)) + ' ' + str(round(float(xmax), 2)) + '\\n')\n",
    "            w_utt.write(str(i) + ' ' + name + '\\n')\n",
    "\n",
    "            \n",
    "w_text.close()\n",
    "# w_segm.close()\n",
    "w_utt.close()\n",
    "w_wav.close()"
   ]
  }
 ],
 "metadata": {
  "kernelspec": {
   "display_name": "Python 3",
   "language": "python",
   "name": "python3"
  },
  "language_info": {
   "codemirror_mode": {
    "name": "ipython",
    "version": 3
   },
   "file_extension": ".py",
   "mimetype": "text/x-python",
   "name": "python",
   "nbconvert_exporter": "python",
   "pygments_lexer": "ipython3",
   "version": "3.5.2"
  }
 },
 "nbformat": 4,
 "nbformat_minor": 2
}
