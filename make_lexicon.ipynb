{
 "cells": [
  {
   "cell_type": "code",
   "execution_count": 41,
   "metadata": {
    "collapsed": true
   },
   "outputs": [],
   "source": [
    "# -*- coding: utf-8 -*-\n",
    "\n",
    "import codecs\n",
    "import os\n",
    "import re"
   ]
  },
  {
   "cell_type": "code",
   "execution_count": 42,
   "metadata": {
    "collapsed": true
   },
   "outputs": [],
   "source": [
    "def get_transcription(line):\n",
    "    line = re.sub('R', 'r', line)\n",
    "    line = re.sub('/', '', line)\n",
    "    line = re.sub('\\ufeff', '', line)\n",
    "    line = re.sub('K', 'k', line)\n",
    "    line = re.sub('=', '', line)\n",
    "    line = re.sub('<', '', line)\n",
    "    line = re.sub('>', '', line)\n",
    "    line = re.sub(\"'\", 'ʼ', line)\n",
    "    line = re.sub('V', 'v', line)\n",
    "    line = re.sub('ù', 'u', line)\n",
    "    line = re.sub('-', '', line)\n",
    "    line = re.sub('G', 'ǯʼ', line)\n",
    "    line = re.sub('M', 'šʼ', line)\n",
    "    return line"
   ]
  },
  {
   "cell_type": "code",
   "execution_count": 43,
   "metadata": {
    "collapsed": true
   },
   "outputs": [],
   "source": [
    "def make_transkr(slovo):\n",
    "    transkr = ' '.join(list(slovo))\n",
    "    transkr = re.sub(' ʼ', 'ʼ', transkr)\n",
    "    zvuki = transkr.split(' ')\n",
    "    for zvuk in zvuki:\n",
    "        phones.append(zvuk)\n",
    "    return transkr"
   ]
  },
  {
   "cell_type": "code",
   "execution_count": 44,
   "metadata": {},
   "outputs": [],
   "source": [
    "all_words = []\n",
    "phones = []\n",
    "\n",
    "w_text = codecs.open('text_new.txt', 'a', 'utf-8-sig')\n",
    "w_lexicon = codecs.open('lexicon.txt', 'a', 'utf-8-sig')\n",
    "w_phones = codecs.open('phones.txt', 'a', 'utf-8-sig')\n",
    "\n",
    "f = open('text.txt', 'r', encoding=\"utf-8\")\n",
    "a = f.read()\n",
    "text = a.split('\\n')\n",
    "for line in text:\n",
    "    line = re.sub('(^.*?) ', '\\\\1@@@@', line)\n",
    "    new_line = line.split('@@@@')\n",
    "    w_text.write(new_line[0] + ' ' + get_transcription(new_line[1]) + '\\n')\n",
    "    words = get_transcription(new_line[1]).split(' ')\n",
    "    for word in words:\n",
    "        all_words.append(word)\n",
    "        \n",
    "\n",
    "for slovo in set(all_words):\n",
    "    if slovo != '':\n",
    "        w_lexicon.write(slovo + ' ' + make_transkr(slovo) + '\\n')\n",
    "\n",
    "for phone in set(phones):\n",
    "    w_phones.write(phone + '\\n')\n",
    "\n",
    "w_lexicon.close()\n",
    "w_phones.close()\n",
    "w_text.close()\n",
    "\n"
   ]
  }
 ],
 "metadata": {
  "kernelspec": {
   "display_name": "Python 3",
   "language": "python",
   "name": "python3"
  },
  "language_info": {
   "codemirror_mode": {
    "name": "ipython",
    "version": 3
   },
   "file_extension": ".py",
   "mimetype": "text/x-python",
   "name": "python",
   "nbconvert_exporter": "python",
   "pygments_lexer": "ipython3",
   "version": "3.5.2"
  }
 },
 "nbformat": 4,
 "nbformat_minor": 2
}
