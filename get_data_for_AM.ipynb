{
 "cells": [
  {
   "cell_type": "markdown",
   "metadata": {},
   "source": [
    "# Make files for acoustic model"
   ]
  },
  {
   "cell_type": "code",
   "execution_count": 58,
   "metadata": {
    "collapsed": true
   },
   "outputs": [],
   "source": [
    "# -*- coding: utf-8 -*-\n",
    "\n",
    "import codecs\n",
    "import os\n",
    "import re"
   ]
  },
  {
   "cell_type": "code",
   "execution_count": 59,
   "metadata": {
    "collapsed": true
   },
   "outputs": [],
   "source": [
    "def clean_text(text):\n",
    "    znaki = ['!', '?', ':', ';', '\"', '...', '.', ',', '[', ']']\n",
    "    text = re.sub('{.*?}', '', text)\n",
    "    text = re.sub('(.*?)', '', text)\n",
    "    for zn in znaki:\n",
    "        text = text.lower()\n",
    "        text = text.replace(zn, '')\n",
    "    ciril = re.search('[а-яё]+', text, flags=re.U)\n",
    "    if ciril is None:\n",
    "        return text\n",
    "    else:\n",
    "        return \"\""
   ]
  },
  {
   "cell_type": "code",
   "execution_count": 61,
   "metadata": {
    "scrolled": true
   },
   "outputs": [
    {
     "name": "stdout",
     "output_type": "stream",
     "text": [
      "AP_t.wav\n",
      "LV_t.wav\n",
      "AS_t.wav\n",
      "AP_AS_m.wav\n",
      "AP_AS_t.wav\n",
      "RA_m.wav\n",
      "AP_m.wav\n",
      "NV_IM_t.wav\n",
      "RA_IM_t.wav\n",
      "SN_m.wav\n",
      "NV_IM_m.wav\n",
      "TS_t.wav\n",
      "SN_t.wav\n",
      "LV_m.wav\n",
      "AS_m.wav\n",
      "TS_AL_m.wav\n",
      "TS_m.wav\n"
     ]
    }
   ],
   "source": [
    "w_text = codecs.open('text', 'a', 'utf-8-sig')\n",
    "w_wav = codecs.open('wav.scp', 'a', 'utf-8-sig')\n",
    "w_segm = codecs.open('segments', 'a', 'utf-8-sig')\n",
    "w_utt = codecs.open('utt2spk', 'a', 'utf-8-sig')\n",
    "\n",
    "\n",
    "file_names = os.listdir('.')\n",
    "i = 0\n",
    "for name in file_names:\n",
    "    if 'TextGrid' in name:\n",
    "        f = open(name, 'r', encoding=\"utf-16-be\")\n",
    "        file_name = re.sub('TextGrid', 'wav', name)\n",
    "        recording_id = re.sub('.wav', '', file_name)\n",
    "        print(file_name)\n",
    "        file_path = os.path.abspath(file_name)\n",
    "        a = f.read()\n",
    "        a = re.sub(' \\n', '\\n', a)\n",
    "        a = re.sub('\\n', '\\t', a)\n",
    "        w_wav.write(recording_id + ' ' + file_path + '\\n')\n",
    "        tiers = re.findall('name.*item', a, flags=re.U)\n",
    "        f.close()\n",
    "        for tier in tiers:\n",
    "            tier_name = re.search('name = \"(.*?)\"', tier, flags=re.U).group(1)\n",
    "            new_tier = re.sub('\\t', '\\n', tier)\n",
    "            intervals = re.findall('intervals .*?\"\\t', tier, flags=re.U)\n",
    "            for interval in intervals:\n",
    "                interval = re.sub('\"\\t', '\"', interval)\n",
    "                interval = re.sub('  +', '', interval)\n",
    "                interval = interval.split('\\t')\n",
    "                i += 1\n",
    "                text = re.search('text = \"(.*?)\"$', interval[3], flags=re.U).group(1)\n",
    "                xmin = re.search('xmin = (.*?)$', interval[1], flags=re.U).group(1)\n",
    "                xmax = re.search('xmax = (.*?)$', interval[2], flags=re.U).group(1)\n",
    "                text_new = clean_text(text)\n",
    "                if text_new != \"\":\n",
    "                    w_text.write(tier_name + '-' + str(i) + ' ' + text_new + '\\n')\n",
    "                    w_segm.write(str(i) + ' ' + recording_id + ' ' + str(round(float(xmin), 2)) + ' ' + str(round(float(xmax), 2)) + '\\n')\n",
    "                    w_utt.write(str(i) + ' ' + tier_name + '\\n')\n",
    "\n",
    "w_text.close()\n",
    "w_segm.close()\n",
    "w_utt.close()\n",
    "w_wav.close()"
   ]
  },
  {
   "cell_type": "code",
   "execution_count": null,
   "metadata": {
    "collapsed": true
   },
   "outputs": [],
   "source": []
  }
 ],
 "metadata": {
  "kernelspec": {
   "display_name": "Python 3",
   "language": "python",
   "name": "python3"
  },
  "language_info": {
   "codemirror_mode": {
    "name": "ipython",
    "version": 3
   },
   "file_extension": ".py",
   "mimetype": "text/x-python",
   "name": "python",
   "nbconvert_exporter": "python",
   "pygments_lexer": "ipython3",
   "version": "3.5.2"
  }
 },
 "nbformat": 4,
 "nbformat_minor": 2
}
